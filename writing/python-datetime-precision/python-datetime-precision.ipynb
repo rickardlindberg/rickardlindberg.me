{
 "cells": [
  {
   "cell_type": "markdown",
   "metadata": {},
   "source": [
    "What is the precision of datetime in Python? The [documentation](https://docs.python.org/3.4/library/datetime.html#datetime.datetime.now) says\n",
    "\n",
    "> Return the current local date and time. If optional argument tz is None or not specified, this is like today(), but, if possible, supplies more precision than can be gotten from going through a time.time() timestamp (for example, this may be possible on platforms supplying the C gettimeofday() function).\n",
    "\n",
    "It goes on [further](https://docs.python.org/3.4/library/time.html#time.time) to say\n",
    "\n",
    "> Note that even though the time is always returned as a floating point number, not all systems provide time with a better precision than 1 second.\n",
    "\n",
    "So, the answer is that it depends.\n",
    "\n",
    "Let's try to figure out what it looks like on Windows using Python 3.4. For reference:"
   ]
  },
  {
   "cell_type": "code",
   "execution_count": 1,
   "metadata": {
    "collapsed": false
   },
   "outputs": [
    {
     "name": "stdout",
     "output_type": "stream",
     "text": [
      "3.4.3 (v3.4.3:9b73f1c3e601, Feb 24 2015, 22:44:40) [MSC v.1600 64 bit (AMD64)]\n"
     ]
    }
   ],
   "source": [
    "import sys\n",
    "print(sys.version)"
   ]
  },
  {
   "cell_type": "markdown",
   "metadata": {},
   "source": [
    "Let's create a series of datetime objects that we can analyze to find out how far apart they are:"
   ]
  },
  {
   "cell_type": "code",
   "execution_count": 2,
   "metadata": {
    "collapsed": false
   },
   "outputs": [],
   "source": [
    "import datetime\n",
    "\n",
    "dates = []\n",
    "for _ in range(10000000):\n",
    "    dates.append(datetime.datetime.now())"
   ]
  },
  {
   "cell_type": "markdown",
   "metadata": {},
   "source": [
    "Let's load them into Pandas so we can analyze them:"
   ]
  },
  {
   "cell_type": "code",
   "execution_count": 3,
   "metadata": {
    "collapsed": false
   },
   "outputs": [],
   "source": [
    "import pandas as pd\n",
    "\n",
    "date_series = pd.Series(dates)"
   ]
  },
  {
   "cell_type": "code",
   "execution_count": 4,
   "metadata": {
    "collapsed": false
   },
   "outputs": [
    {
     "data": {
      "text/plain": [
       "0   2015-06-27 13:06:19.089816\n",
       "1   2015-06-27 13:06:19.089816\n",
       "2   2015-06-27 13:06:19.089816\n",
       "3   2015-06-27 13:06:19.089816\n",
       "4   2015-06-27 13:06:19.089816\n",
       "dtype: datetime64[ns]"
      ]
     },
     "execution_count": 4,
     "metadata": {},
     "output_type": "execute_result"
    }
   ],
   "source": [
    "date_series.head()"
   ]
  },
  {
   "cell_type": "code",
   "execution_count": 5,
   "metadata": {
    "collapsed": false
   },
   "outputs": [
    {
     "data": {
      "text/plain": [
       "count                       10000000\n",
       "unique                          9085\n",
       "top       2015-06-27 13:06:24.066101\n",
       "freq                            1221\n",
       "first     2015-06-27 13:06:19.089816\n",
       "last      2015-06-27 13:06:28.457352\n",
       "dtype: object"
      ]
     },
     "execution_count": 5,
     "metadata": {},
     "output_type": "execute_result"
    }
   ],
   "source": [
    "date_series.describe()"
   ]
  },
  {
   "cell_type": "markdown",
   "metadata": {},
   "source": [
    "Let's remove all duplicates:"
   ]
  },
  {
   "cell_type": "code",
   "execution_count": 6,
   "metadata": {
    "collapsed": false
   },
   "outputs": [
    {
     "data": {
      "text/plain": [
       "count                           9085\n",
       "unique                          9085\n",
       "top       2015-06-27 13:06:25.215166\n",
       "freq                               1\n",
       "first     2015-06-27 13:06:19.089816\n",
       "last      2015-06-27 13:06:28.457352\n",
       "dtype: object"
      ]
     },
     "execution_count": 6,
     "metadata": {},
     "output_type": "execute_result"
    }
   ],
   "source": [
    "uniq_date_series = date_series.drop_duplicates()\n",
    "uniq_date_series.describe()"
   ]
  },
  {
   "cell_type": "markdown",
   "metadata": {},
   "source": [
    "Now let's figure out the delta between all uniqe dates:"
   ]
  },
  {
   "cell_type": "code",
   "execution_count": 7,
   "metadata": {
    "collapsed": false
   },
   "outputs": [
    {
     "data": {
      "text/plain": [
       "count                      9084\n",
       "mean     0 days 00:00:00.001031\n",
       "std      0 days 00:00:00.000690\n",
       "min      0 days 00:00:00.001000\n",
       "25%      0 days 00:00:00.001000\n",
       "50%      0 days 00:00:00.001000\n",
       "75%      0 days 00:00:00.001000\n",
       "max      0 days 00:00:00.033002\n",
       "dtype: object"
      ]
     },
     "execution_count": 7,
     "metadata": {},
     "output_type": "execute_result"
    }
   ],
   "source": [
    "deltas = uniq_date_series - uniq_date_series.shift(1)\n",
    "deltas.describe()"
   ]
  },
  {
   "cell_type": "markdown",
   "metadata": {},
   "source": [
    "And the smallest delta is"
   ]
  },
  {
   "cell_type": "code",
   "execution_count": 8,
   "metadata": {
    "collapsed": false
   },
   "outputs": [
    {
     "data": {
      "text/plain": [
       "Timedelta('0 days 00:00:00.001000')"
      ]
     },
     "execution_count": 8,
     "metadata": {},
     "output_type": "execute_result"
    }
   ],
   "source": [
    "deltas.min()"
   ]
  },
  {
   "cell_type": "markdown",
   "metadata": {},
   "source": [
    "This means that the smallest increment between two consecutive dates is **1ms**. So we can not use the datetime on Windows to measure events that occur more frequently than 1ms.\n",
    "\n",
    "And that is in the best case. This number will vary depending on how many other processes are running and what the Python code does in between two measurements."
   ]
  }
 ],
 "metadata": {
  "kernelspec": {
   "display_name": "Python 3",
   "language": "python",
   "name": "python3"
  },
  "language_info": {
   "codemirror_mode": {
    "name": "ipython",
    "version": 3
   },
   "file_extension": ".py",
   "mimetype": "text/x-python",
   "name": "python",
   "nbconvert_exporter": "python",
   "pygments_lexer": "ipython3",
   "version": "3.4.3"
  }
 },
 "nbformat": 4,
 "nbformat_minor": 0
}
